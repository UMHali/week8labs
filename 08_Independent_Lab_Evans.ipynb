{
 "cells": [
  {
   "cell_type": "markdown",
   "id": "093ecb89-85cd-418a-8500-91bff766acbb",
   "metadata": {},
   "source": [
    "# Week 8 Independent Lab: Advanced Data Manipulation"
   ]
  },
  {
   "cell_type": "markdown",
   "id": "00c38c3b-7e52-498d-9922-da5112b874a5",
   "metadata": {},
   "source": [
    "Author: Hali Evans    \n",
    "Course: BGEN632    \n",
    "Purpose: Practice advanced functions in pandas to query and filter data."
   ]
  },
  {
   "cell_type": "code",
   "execution_count": 6,
   "id": "76047c1a-3bfb-45ce-9f41-72c8502eb62c",
   "metadata": {},
   "outputs": [],
   "source": [
    "# import modules\n",
    "import os\n",
    "import pandas as pd"
   ]
  },
  {
   "cell_type": "code",
   "execution_count": 7,
   "id": "f381d96b-e07d-453c-b69f-7ac9cc2a85d9",
   "metadata": {},
   "outputs": [
    {
     "data": {
      "text/plain": [
       "'/Users/halievans/Documents/BGEN632/week8labs/data'"
      ]
     },
     "execution_count": 7,
     "metadata": {},
     "output_type": "execute_result"
    }
   ],
   "source": [
    "# set working directory\n",
    "os.chdir(\"/Users/halievans/Documents/BGEN632/week8labs/data\")  # add your filepath within the quotes\n",
    "os.getcwd()  # confirm change"
   ]
  },
  {
   "cell_type": "code",
   "execution_count": 8,
   "id": "13ce717c-36e9-4538-914a-29c56619556b",
   "metadata": {},
   "outputs": [
    {
     "name": "stdout",
     "output_type": "stream",
     "text": [
      "<class 'pandas.core.frame.DataFrame'>\n",
      "RangeIndex: 473 entries, 0 to 472\n",
      "Data columns (total 16 columns):\n",
      " #   Column         Non-Null Count  Dtype  \n",
      "---  ------         --------------  -----  \n",
      " 0   project_id     473 non-null    int64  \n",
      " 1   domain         473 non-null    object \n",
      " 2   language       473 non-null    object \n",
      " 3   windows        473 non-null    int64  \n",
      " 4   window_idx     473 non-null    int64  \n",
      " 5   num_team       473 non-null    int64  \n",
      " 6   num_commits    473 non-null    int64  \n",
      " 7   blau_gender    473 non-null    float64\n",
      " 8   Gini_gh_ten    473 non-null    float64\n",
      " 9   user_id        473 non-null    int64  \n",
      " 10  Core1          473 non-null    int64  \n",
      " 11  commits        473 non-null    int64  \n",
      " 12  propCommits    473 non-null    float64\n",
      " 13  gender         449 non-null    object \n",
      " 14  github_tenure  473 non-null    int64  \n",
      " 15  leavesNextQ    473 non-null    int64  \n",
      "dtypes: float64(3), int64(10), object(3)\n",
      "memory usage: 59.3+ KB\n"
     ]
    }
   ],
   "source": [
    "# load data\n",
    "gh_tfp_df = pd.read_csv(\"gh_turnover_four_projects.csv\")\n",
    "gh_tfp_df.info()  # quick inspect"
   ]
  },
  {
   "cell_type": "markdown",
   "id": "9d4a24e1-15b7-4a2e-8363-e68a7e4efd63",
   "metadata": {},
   "source": [
    "## Rename Columns"
   ]
  },
  {
   "cell_type": "code",
   "execution_count": 10,
   "id": "74e0819b-5512-456a-992f-839ed79393c0",
   "metadata": {},
   "outputs": [
    {
     "data": {
      "text/html": [
       "<div>\n",
       "<style scoped>\n",
       "    .dataframe tbody tr th:only-of-type {\n",
       "        vertical-align: middle;\n",
       "    }\n",
       "\n",
       "    .dataframe tbody tr th {\n",
       "        vertical-align: top;\n",
       "    }\n",
       "\n",
       "    .dataframe thead th {\n",
       "        text-align: right;\n",
       "    }\n",
       "</style>\n",
       "<table border=\"1\" class=\"dataframe\">\n",
       "  <thead>\n",
       "    <tr style=\"text-align: right;\">\n",
       "      <th></th>\n",
       "      <th>project_id</th>\n",
       "      <th>project_domain</th>\n",
       "      <th>project_language</th>\n",
       "      <th>project_age</th>\n",
       "      <th>quarter</th>\n",
       "      <th>team_size</th>\n",
       "      <th>project_commits</th>\n",
       "      <th>gender_blau</th>\n",
       "      <th>gh_tenure_gini</th>\n",
       "      <th>user_id</th>\n",
       "      <th>core_dev</th>\n",
       "      <th>user_commits</th>\n",
       "      <th>commit_proportion</th>\n",
       "      <th>gender</th>\n",
       "      <th>gh_tenure</th>\n",
       "      <th>leaves_next_q</th>\n",
       "    </tr>\n",
       "  </thead>\n",
       "  <tbody>\n",
       "    <tr>\n",
       "      <th>0</th>\n",
       "      <td>1101</td>\n",
       "      <td>OTHER</td>\n",
       "      <td>Python</td>\n",
       "      <td>23</td>\n",
       "      <td>22</td>\n",
       "      <td>26</td>\n",
       "      <td>22688</td>\n",
       "      <td>0.0</td>\n",
       "      <td>0.422259</td>\n",
       "      <td>1614129</td>\n",
       "      <td>1</td>\n",
       "      <td>22138</td>\n",
       "      <td>0.975758</td>\n",
       "      <td>male</td>\n",
       "      <td>426</td>\n",
       "      <td>0</td>\n",
       "    </tr>\n",
       "    <tr>\n",
       "      <th>1</th>\n",
       "      <td>1101</td>\n",
       "      <td>OTHER</td>\n",
       "      <td>Python</td>\n",
       "      <td>23</td>\n",
       "      <td>22</td>\n",
       "      <td>26</td>\n",
       "      <td>22688</td>\n",
       "      <td>0.0</td>\n",
       "      <td>0.422259</td>\n",
       "      <td>1614101</td>\n",
       "      <td>0</td>\n",
       "      <td>124</td>\n",
       "      <td>0.005465</td>\n",
       "      <td>male</td>\n",
       "      <td>46</td>\n",
       "      <td>0</td>\n",
       "    </tr>\n",
       "    <tr>\n",
       "      <th>2</th>\n",
       "      <td>1101</td>\n",
       "      <td>OTHER</td>\n",
       "      <td>Python</td>\n",
       "      <td>23</td>\n",
       "      <td>22</td>\n",
       "      <td>26</td>\n",
       "      <td>22688</td>\n",
       "      <td>0.0</td>\n",
       "      <td>0.422259</td>\n",
       "      <td>94412</td>\n",
       "      <td>0</td>\n",
       "      <td>53</td>\n",
       "      <td>0.002336</td>\n",
       "      <td>male</td>\n",
       "      <td>941</td>\n",
       "      <td>1</td>\n",
       "    </tr>\n",
       "    <tr>\n",
       "      <th>3</th>\n",
       "      <td>1101</td>\n",
       "      <td>OTHER</td>\n",
       "      <td>Python</td>\n",
       "      <td>23</td>\n",
       "      <td>22</td>\n",
       "      <td>26</td>\n",
       "      <td>22688</td>\n",
       "      <td>0.0</td>\n",
       "      <td>0.422259</td>\n",
       "      <td>88459</td>\n",
       "      <td>0</td>\n",
       "      <td>49</td>\n",
       "      <td>0.002160</td>\n",
       "      <td>male</td>\n",
       "      <td>1870</td>\n",
       "      <td>0</td>\n",
       "    </tr>\n",
       "    <tr>\n",
       "      <th>4</th>\n",
       "      <td>1101</td>\n",
       "      <td>OTHER</td>\n",
       "      <td>Python</td>\n",
       "      <td>23</td>\n",
       "      <td>22</td>\n",
       "      <td>26</td>\n",
       "      <td>22688</td>\n",
       "      <td>0.0</td>\n",
       "      <td>0.422259</td>\n",
       "      <td>738787</td>\n",
       "      <td>0</td>\n",
       "      <td>45</td>\n",
       "      <td>0.001983</td>\n",
       "      <td>male</td>\n",
       "      <td>781</td>\n",
       "      <td>0</td>\n",
       "    </tr>\n",
       "  </tbody>\n",
       "</table>\n",
       "</div>"
      ],
      "text/plain": [
       "   project_id project_domain project_language  project_age  quarter  \\\n",
       "0        1101          OTHER           Python           23       22   \n",
       "1        1101          OTHER           Python           23       22   \n",
       "2        1101          OTHER           Python           23       22   \n",
       "3        1101          OTHER           Python           23       22   \n",
       "4        1101          OTHER           Python           23       22   \n",
       "\n",
       "   team_size  project_commits  gender_blau  gh_tenure_gini  user_id  core_dev  \\\n",
       "0         26            22688          0.0        0.422259  1614129         1   \n",
       "1         26            22688          0.0        0.422259  1614101         0   \n",
       "2         26            22688          0.0        0.422259    94412         0   \n",
       "3         26            22688          0.0        0.422259    88459         0   \n",
       "4         26            22688          0.0        0.422259   738787         0   \n",
       "\n",
       "   user_commits  commit_proportion gender  gh_tenure  leaves_next_q  \n",
       "0         22138           0.975758   male        426              0  \n",
       "1           124           0.005465   male         46              0  \n",
       "2            53           0.002336   male        941              1  \n",
       "3            49           0.002160   male       1870              0  \n",
       "4            45           0.001983   male        781              0  "
      ]
     },
     "execution_count": 10,
     "metadata": {},
     "output_type": "execute_result"
    }
   ],
   "source": [
    "# rename columns\n",
    "gh_rename_df = (\n",
    "    gh_tfp_df\n",
    "    .rename(columns={\n",
    "        \"domain\" : \"project_domain\",\n",
    "        \"language\" : \"project_language\",\n",
    "        \"windows\" : \"project_age\",\n",
    "        \"window_idx\" : \"quarter\",\n",
    "        \"num_team\" : \"team_size\",\n",
    "        \"num_commits\" : \"project_commits\",\n",
    "        \"blau_gender\" : \"gender_blau\",\n",
    "        \"Gini_gh_ten\" : \"gh_tenure_gini\", \n",
    "        \"Core1\" : \"core_dev\",\n",
    "        \"commits\" : \"user_commits\",\n",
    "        \"propCommits\" : \"commit_proportion\",\n",
    "        \"github_tenure\" : \"gh_tenure\",\n",
    "        \"leavesNextQ\" : \"leaves_next_q\"})\n",
    ")\n",
    "gh_rename_df.head()  # display first n rows"
   ]
  },
  {
   "cell_type": "markdown",
   "id": "59029a4e-6def-48bf-bd69-e2421b52aa16",
   "metadata": {},
   "source": [
    "## Data Wrangling"
   ]
  },
  {
   "cell_type": "code",
   "execution_count": 12,
   "id": "88db5bb0-638d-4fd0-a30c-77a5fef73422",
   "metadata": {},
   "outputs": [
    {
     "name": "stdout",
     "output_type": "stream",
     "text": [
      "Mean: 339.36575052854124\n"
     ]
    }
   ],
   "source": [
    "# calculate the mean of user_commits\n",
    "mean_uc = gh_rename_df[\"user_commits\"].mean() # calculation\n",
    "print(\"Mean:\", mean_uc) # display mean"
   ]
  },
  {
   "cell_type": "code",
   "execution_count": 13,
   "id": "7d0402bd-083c-4caa-a8a9-422aee030d09",
   "metadata": {},
   "outputs": [
    {
     "name": "stdout",
     "output_type": "stream",
     "text": [
      "Median: 18.0\n"
     ]
    }
   ],
   "source": [
    "# calculate the median of user_commits\n",
    "median_uc = gh_rename_df[\"user_commits\"].median() # calculation\n",
    "print(\"Median:\", median_uc) # display median"
   ]
  },
  {
   "cell_type": "code",
   "execution_count": 14,
   "id": "5922bcce-590b-41aa-8d56-05bf14eb873b",
   "metadata": {},
   "outputs": [
    {
     "data": {
      "text/plain": [
       "Index(['project_id', 'project_domain', 'project_language', 'project_age',\n",
       "       'project_commits', 'gender_blau', 'gh_tenure_gini', 'gender',\n",
       "       'gh_tenure'],\n",
       "      dtype='object')"
      ]
     },
     "execution_count": 14,
     "metadata": {},
     "output_type": "execute_result"
    }
   ],
   "source": [
    "# select columns that start with a p or contain a g in new dataframe and output columns\n",
    "turnover_new = (\n",
    "    gh_rename_df\n",
    "    .filter(regex=\"(^p)|g\") # select desired columns\n",
    ")\n",
    "turnover_new.columns"
   ]
  },
  {
   "cell_type": "code",
   "execution_count": 15,
   "id": "41bff687-0483-445c-af3f-077eda974fd1",
   "metadata": {},
   "outputs": [
    {
     "data": {
      "text/html": [
       "<div>\n",
       "<style scoped>\n",
       "    .dataframe tbody tr th:only-of-type {\n",
       "        vertical-align: middle;\n",
       "    }\n",
       "\n",
       "    .dataframe tbody tr th {\n",
       "        vertical-align: top;\n",
       "    }\n",
       "\n",
       "    .dataframe thead th {\n",
       "        text-align: right;\n",
       "    }\n",
       "</style>\n",
       "<table border=\"1\" class=\"dataframe\">\n",
       "  <thead>\n",
       "    <tr style=\"text-align: right;\">\n",
       "      <th></th>\n",
       "      <th>project_id</th>\n",
       "      <th>project_domain</th>\n",
       "      <th>project_language</th>\n",
       "      <th>project_age</th>\n",
       "      <th>project_commits</th>\n",
       "      <th>gender_blau</th>\n",
       "      <th>gh_tenure_gini</th>\n",
       "      <th>gender</th>\n",
       "      <th>gh_tenure</th>\n",
       "    </tr>\n",
       "  </thead>\n",
       "  <tbody>\n",
       "    <tr>\n",
       "      <th>0</th>\n",
       "      <td>1101</td>\n",
       "      <td>OTHER</td>\n",
       "      <td>Python</td>\n",
       "      <td>23</td>\n",
       "      <td>22688</td>\n",
       "      <td>0.0</td>\n",
       "      <td>0.422259</td>\n",
       "      <td>male</td>\n",
       "      <td>426</td>\n",
       "    </tr>\n",
       "    <tr>\n",
       "      <th>1</th>\n",
       "      <td>1101</td>\n",
       "      <td>OTHER</td>\n",
       "      <td>Python</td>\n",
       "      <td>23</td>\n",
       "      <td>22688</td>\n",
       "      <td>0.0</td>\n",
       "      <td>0.422259</td>\n",
       "      <td>male</td>\n",
       "      <td>46</td>\n",
       "    </tr>\n",
       "    <tr>\n",
       "      <th>2</th>\n",
       "      <td>1101</td>\n",
       "      <td>OTHER</td>\n",
       "      <td>Python</td>\n",
       "      <td>23</td>\n",
       "      <td>22688</td>\n",
       "      <td>0.0</td>\n",
       "      <td>0.422259</td>\n",
       "      <td>male</td>\n",
       "      <td>941</td>\n",
       "    </tr>\n",
       "    <tr>\n",
       "      <th>3</th>\n",
       "      <td>1101</td>\n",
       "      <td>OTHER</td>\n",
       "      <td>Python</td>\n",
       "      <td>23</td>\n",
       "      <td>22688</td>\n",
       "      <td>0.0</td>\n",
       "      <td>0.422259</td>\n",
       "      <td>male</td>\n",
       "      <td>1870</td>\n",
       "    </tr>\n",
       "    <tr>\n",
       "      <th>4</th>\n",
       "      <td>1101</td>\n",
       "      <td>OTHER</td>\n",
       "      <td>Python</td>\n",
       "      <td>23</td>\n",
       "      <td>22688</td>\n",
       "      <td>0.0</td>\n",
       "      <td>0.422259</td>\n",
       "      <td>male</td>\n",
       "      <td>781</td>\n",
       "    </tr>\n",
       "  </tbody>\n",
       "</table>\n",
       "</div>"
      ],
      "text/plain": [
       "   project_id project_domain project_language  project_age  project_commits  \\\n",
       "0        1101          OTHER           Python           23            22688   \n",
       "1        1101          OTHER           Python           23            22688   \n",
       "2        1101          OTHER           Python           23            22688   \n",
       "3        1101          OTHER           Python           23            22688   \n",
       "4        1101          OTHER           Python           23            22688   \n",
       "\n",
       "   gender_blau  gh_tenure_gini gender  gh_tenure  \n",
       "0          0.0        0.422259   male        426  \n",
       "1          0.0        0.422259   male         46  \n",
       "2          0.0        0.422259   male        941  \n",
       "3          0.0        0.422259   male       1870  \n",
       "4          0.0        0.422259   male        781  "
      ]
     },
     "execution_count": 15,
     "metadata": {},
     "output_type": "execute_result"
    }
   ],
   "source": [
    "# select project_commits greater than 9000\n",
    "(turnover_new\n",
    " .query(\"project_commits > 9000\")  # keep rows based on condition\n",
    " .head() # display first n rows\n",
    ")"
   ]
  },
  {
   "cell_type": "code",
   "execution_count": 16,
   "id": "9ef17a59-19f3-4dca-8cc3-c58f034ba2ce",
   "metadata": {},
   "outputs": [
    {
     "data": {
      "text/html": [
       "<div>\n",
       "<style scoped>\n",
       "    .dataframe tbody tr th:only-of-type {\n",
       "        vertical-align: middle;\n",
       "    }\n",
       "\n",
       "    .dataframe tbody tr th {\n",
       "        vertical-align: top;\n",
       "    }\n",
       "\n",
       "    .dataframe thead th {\n",
       "        text-align: right;\n",
       "    }\n",
       "</style>\n",
       "<table border=\"1\" class=\"dataframe\">\n",
       "  <thead>\n",
       "    <tr style=\"text-align: right;\">\n",
       "      <th></th>\n",
       "      <th>project_id</th>\n",
       "      <th>project_domain</th>\n",
       "      <th>project_language</th>\n",
       "      <th>project_age</th>\n",
       "      <th>project_commits</th>\n",
       "      <th>gender_blau</th>\n",
       "      <th>gh_tenure_gini</th>\n",
       "      <th>gender</th>\n",
       "      <th>gh_tenure</th>\n",
       "    </tr>\n",
       "  </thead>\n",
       "  <tbody>\n",
       "    <tr>\n",
       "      <th>0</th>\n",
       "      <td>1101</td>\n",
       "      <td>OTHER</td>\n",
       "      <td>Python</td>\n",
       "      <td>23</td>\n",
       "      <td>22688</td>\n",
       "      <td>0.0</td>\n",
       "      <td>0.422259</td>\n",
       "      <td>male</td>\n",
       "      <td>426</td>\n",
       "    </tr>\n",
       "    <tr>\n",
       "      <th>1</th>\n",
       "      <td>1101</td>\n",
       "      <td>OTHER</td>\n",
       "      <td>Python</td>\n",
       "      <td>23</td>\n",
       "      <td>22688</td>\n",
       "      <td>0.0</td>\n",
       "      <td>0.422259</td>\n",
       "      <td>male</td>\n",
       "      <td>46</td>\n",
       "    </tr>\n",
       "    <tr>\n",
       "      <th>2</th>\n",
       "      <td>1101</td>\n",
       "      <td>OTHER</td>\n",
       "      <td>Python</td>\n",
       "      <td>23</td>\n",
       "      <td>22688</td>\n",
       "      <td>0.0</td>\n",
       "      <td>0.422259</td>\n",
       "      <td>male</td>\n",
       "      <td>941</td>\n",
       "    </tr>\n",
       "    <tr>\n",
       "      <th>3</th>\n",
       "      <td>1101</td>\n",
       "      <td>OTHER</td>\n",
       "      <td>Python</td>\n",
       "      <td>23</td>\n",
       "      <td>22688</td>\n",
       "      <td>0.0</td>\n",
       "      <td>0.422259</td>\n",
       "      <td>male</td>\n",
       "      <td>1870</td>\n",
       "    </tr>\n",
       "    <tr>\n",
       "      <th>4</th>\n",
       "      <td>1101</td>\n",
       "      <td>OTHER</td>\n",
       "      <td>Python</td>\n",
       "      <td>23</td>\n",
       "      <td>22688</td>\n",
       "      <td>0.0</td>\n",
       "      <td>0.422259</td>\n",
       "      <td>male</td>\n",
       "      <td>781</td>\n",
       "    </tr>\n",
       "  </tbody>\n",
       "</table>\n",
       "</div>"
      ],
      "text/plain": [
       "   project_id project_domain project_language  project_age  project_commits  \\\n",
       "0        1101          OTHER           Python           23            22688   \n",
       "1        1101          OTHER           Python           23            22688   \n",
       "2        1101          OTHER           Python           23            22688   \n",
       "3        1101          OTHER           Python           23            22688   \n",
       "4        1101          OTHER           Python           23            22688   \n",
       "\n",
       "   gender_blau  gh_tenure_gini gender  gh_tenure  \n",
       "0          0.0        0.422259   male        426  \n",
       "1          0.0        0.422259   male         46  \n",
       "2          0.0        0.422259   male        941  \n",
       "3          0.0        0.422259   male       1870  \n",
       "4          0.0        0.422259   male        781  "
      ]
     },
     "execution_count": 16,
     "metadata": {},
     "output_type": "execute_result"
    }
   ],
   "source": [
    "# using the filter and query above use pandas piping notation to perform the operations together in new dataframe.\n",
    "turnover_newer = (\n",
    "    gh_rename_df\n",
    "    .filter(regex=\"(^p)|g\")  # select desired columns\n",
    "    .query(\"project_commits > 9000\")  # keep rows based on condition\n",
    ")\n",
    "turnover_newer.head() # display first n rows"
   ]
  },
  {
   "cell_type": "code",
   "execution_count": 17,
   "id": "1d619db2-9fc2-4c33-aeea-77b106c291ad",
   "metadata": {},
   "outputs": [
    {
     "data": {
      "text/html": [
       "<div>\n",
       "<style scoped>\n",
       "    .dataframe tbody tr th:only-of-type {\n",
       "        vertical-align: middle;\n",
       "    }\n",
       "\n",
       "    .dataframe tbody tr th {\n",
       "        vertical-align: top;\n",
       "    }\n",
       "\n",
       "    .dataframe thead th {\n",
       "        text-align: right;\n",
       "    }\n",
       "</style>\n",
       "<table border=\"1\" class=\"dataframe\">\n",
       "  <thead>\n",
       "    <tr style=\"text-align: right;\">\n",
       "      <th></th>\n",
       "      <th>project_language</th>\n",
       "      <th>project_age</th>\n",
       "      <th>quarter</th>\n",
       "      <th>team_size</th>\n",
       "      <th>gh_tenure</th>\n",
       "      <th>leaves_next_q</th>\n",
       "    </tr>\n",
       "  </thead>\n",
       "  <tbody>\n",
       "    <tr>\n",
       "      <th>339</th>\n",
       "      <td>Java</td>\n",
       "      <td>16</td>\n",
       "      <td>17</td>\n",
       "      <td>2</td>\n",
       "      <td>2006</td>\n",
       "      <td>0</td>\n",
       "    </tr>\n",
       "    <tr>\n",
       "      <th>457</th>\n",
       "      <td>Python</td>\n",
       "      <td>23</td>\n",
       "      <td>24</td>\n",
       "      <td>20</td>\n",
       "      <td>2054</td>\n",
       "      <td>0</td>\n",
       "    </tr>\n",
       "  </tbody>\n",
       "</table>\n",
       "</div>"
      ],
      "text/plain": [
       "    project_language  project_age  quarter  team_size  gh_tenure  \\\n",
       "339             Java           16       17          2       2006   \n",
       "457           Python           23       24         20       2054   \n",
       "\n",
       "     leaves_next_q  \n",
       "339              0  \n",
       "457              0  "
      ]
     },
     "execution_count": 17,
     "metadata": {},
     "output_type": "execute_result"
    }
   ],
   "source": [
    "# using pandas piping select columns that end with letter e or contain letter q select rows in which gh_tenure is greater than or equal to 1991\n",
    "gh_filter_df = (\n",
    "    gh_rename_df\n",
    "    .filter(regex=\"e$|q\")  # select desired columns\n",
    "    .query(\"gh_tenure >= 1991\")  # keep rows based on condition\n",
    ")\n",
    "gh_filter_df.head() # display first n rows"
   ]
  },
  {
   "cell_type": "code",
   "execution_count": 18,
   "id": "b9da63bd-e7b7-4c04-ad4c-d60751058e54",
   "metadata": {},
   "outputs": [
    {
     "data": {
      "text/html": [
       "<div>\n",
       "<style scoped>\n",
       "    .dataframe tbody tr th:only-of-type {\n",
       "        vertical-align: middle;\n",
       "    }\n",
       "\n",
       "    .dataframe tbody tr th {\n",
       "        vertical-align: top;\n",
       "    }\n",
       "\n",
       "    .dataframe thead th {\n",
       "        text-align: right;\n",
       "    }\n",
       "</style>\n",
       "<table border=\"1\" class=\"dataframe\">\n",
       "  <thead>\n",
       "    <tr style=\"text-align: right;\">\n",
       "      <th></th>\n",
       "      <th>project_language</th>\n",
       "      <th>project_age</th>\n",
       "      <th>quarter</th>\n",
       "      <th>team_size</th>\n",
       "      <th>user_commits</th>\n",
       "      <th>gh_tenure</th>\n",
       "      <th>leaves_next_q</th>\n",
       "    </tr>\n",
       "  </thead>\n",
       "  <tbody>\n",
       "    <tr>\n",
       "      <th>339</th>\n",
       "      <td>Java</td>\n",
       "      <td>16</td>\n",
       "      <td>17</td>\n",
       "      <td>2</td>\n",
       "      <td>6</td>\n",
       "      <td>2006</td>\n",
       "      <td>0</td>\n",
       "    </tr>\n",
       "    <tr>\n",
       "      <th>457</th>\n",
       "      <td>Python</td>\n",
       "      <td>23</td>\n",
       "      <td>24</td>\n",
       "      <td>20</td>\n",
       "      <td>1</td>\n",
       "      <td>2054</td>\n",
       "      <td>0</td>\n",
       "    </tr>\n",
       "  </tbody>\n",
       "</table>\n",
       "</div>"
      ],
      "text/plain": [
       "    project_language  project_age  quarter  team_size  user_commits  \\\n",
       "339             Java           16       17          2             6   \n",
       "457           Python           23       24         20             1   \n",
       "\n",
       "     gh_tenure  leaves_next_q  \n",
       "339       2006              0  \n",
       "457       2054              0  "
      ]
     },
     "execution_count": 18,
     "metadata": {},
     "output_type": "execute_result"
    }
   ],
   "source": [
    "# add user commits to filter\n",
    "gh_filter_df = (\n",
    "    gh_rename_df\n",
    "    .filter(regex=\"e$|q|^user_commits$\")  # select desired columns\n",
    "    .query(\"gh_tenure >= 1991\")  # keep rows based on condition\n",
    ")\n",
    "gh_filter_df.head()"
   ]
  },
  {
   "cell_type": "code",
   "execution_count": 19,
   "id": "d8f8c73b-4c18-46aa-8518-e094ea8619c2",
   "metadata": {},
   "outputs": [
    {
     "name": "stdout",
     "output_type": "stream",
     "text": [
      "Mean: 3.5\n",
      "Median: 3.5\n"
     ]
    }
   ],
   "source": [
    "mean_filter_uc = gh_filter_df[\"user_commits\"].mean() # calculation\n",
    "median_filter_uc = gh_filter_df[\"user_commits\"].median() # calculation\n",
    "\n",
    "print(\"Mean:\", mean_filter_uc) # display mean\n",
    "print(\"Median:\", median_filter_uc) # display median"
   ]
  },
  {
   "cell_type": "code",
   "execution_count": 20,
   "id": "6c87437a-a969-4af8-8825-84f83f317ff4",
   "metadata": {},
   "outputs": [
    {
     "data": {
      "text/plain": [
       "473"
      ]
     },
     "execution_count": 20,
     "metadata": {},
     "output_type": "execute_result"
    }
   ],
   "source": [
    "gh_rename_df.shape[0]"
   ]
  },
  {
   "cell_type": "markdown",
   "id": "ae9e936e-6158-4ee5-a31a-b65bd298f20a",
   "metadata": {},
   "source": [
    "#### Original Calculations\n",
    "Mean: 339.36575052854124    \n",
    "Median: 18.0    \n",
    "\n",
    "#### Filtered Calculations\n",
    "Mean: 3.5    \n",
    "Median: 3.5    \n",
    "\n",
    "It is important to note that the data was reduced from 473 rows to just 2. As a result, the mean and median values in the filtered dataset are significantly lower than those in the original. This difference stems from what was chosen to filter the dataset and is a reminder to analyze data prior to applying a filter to ensure there are not any unintended consequences."
   ]
  }
 ],
 "metadata": {
  "kernelspec": {
   "display_name": "Python [conda env:base] *",
   "language": "python",
   "name": "conda-base-py"
  },
  "language_info": {
   "codemirror_mode": {
    "name": "ipython",
    "version": 3
   },
   "file_extension": ".py",
   "mimetype": "text/x-python",
   "name": "python",
   "nbconvert_exporter": "python",
   "pygments_lexer": "ipython3",
   "version": "3.12.7"
  }
 },
 "nbformat": 4,
 "nbformat_minor": 5
}
